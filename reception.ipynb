{
 "cells": [
  {
   "cell_type": "code",
   "execution_count": null,
   "metadata": {},
   "outputs": [],
   "source": [
    "import base64\n",
    "import uuid\n",
    "import random\n",
    "import time\n",
    "import json\n",
    "import os\n",
    "import ast\n",
    "import traceback\n",
    "import datetime\n",
    "from paho.mqtt import client as mqtt\n",
    "from dotenv import load_dotenv\n",
    "from functools import reduce\n",
    "from io import BytesIO\n",
    "from PIL import Image"
   ]
  },
  {
   "cell_type": "code",
   "execution_count": null,
   "metadata": {},
   "outputs": [],
   "source": [
    "load_dotenv()"
   ]
  },
  {
   "cell_type": "code",
   "execution_count": null,
   "metadata": {},
   "outputs": [],
   "source": [
    "transmissions = []\n",
    "def RX_MQTT(messageMqtt):\n",
    "    if(messageMqtt not in transmissions):\n",
    "        print(\"The transmission is not in cache, adding to\")\n",
    "        transmissions.append(messageMqtt)\n",
    "    else:\n",
    "        print(\"The transmission is in cache\")"
   ]
  },
  {
   "cell_type": "code",
   "execution_count": null,
   "metadata": {},
   "outputs": [],
   "source": [
    "IN_TX = {}\n",
    "IN_TX_META = {}\n",
    "\n",
    "def get_extension(path):\n",
    "    file_name_extension = os.path.splitext(path)\n",
    "    file_extension = file_name_extension[1]   \n",
    "    parts = file_extension.split(\".\")\n",
    "    if(parts[1]=='jpg'):\n",
    "        extension='jpeg'\n",
    "    else:\n",
    "        extension = parts[1]\n",
    "    return extension\n",
    "\n",
    "def connect_mqtt() -> mqtt:\n",
    "    def on_connect(client, userdata, flags, rc):\n",
    "        if rc == 0:\n",
    "            print(\"Connected to MQTT Broker!\")\n",
    "        else:\n",
    "            print(\"Failed to connect, return code %d\\n\", rc)\n",
    "\n",
    "    client = mqtt.Client(client_id=os.getenv(\"MQTT_SERVERID\"))\n",
    "    client.username_pw_set(os.getenv(\"MQTT_USER\"), os.getenv(\"MQTT_PASSWORD\"))\n",
    "    client.on_connect = on_connect\n",
    "    client.connect(os.getenv(\"MQTT_HOST\"), int(os.getenv(\"MQTT_PORT\", 1883)))\n",
    "    return client\n",
    "\n",
    "def subscribe(client: mqtt):\n",
    "    def on_message(client, userdata, msg):\n",
    "        TX_ID =  msg.topic.split('/')\n",
    "        message_parsed = ast.literal_eval(msg.payload.decode())\n",
    "        #print(message_parsed)   \n",
    "        if(message_parsed.get('message_type')=='00'):      \n",
    "            ct = datetime.datetime.now()\n",
    "            print(\"Start time 00:-\", ct)       \n",
    "            RX_MQTT(TX_ID[1])\n",
    "            IN_TX[TX_ID[1]] = []\n",
    "            IN_TX_META[TX_ID[1]] = {\"name\":(message_parsed.get('content')[0]).get('file_name')}\n",
    "            ct = datetime.datetime.now()\n",
    "            print(\"Finish time 00:-\", ct)       \n",
    "        elif(message_parsed.get('message_type')=='01'):\n",
    "            ct = datetime.datetime.now()\n",
    "            print(\"Start time 01:-\", ct)       \n",
    "            if TX_ID[1] in IN_TX:\n",
    "                IN_TX[TX_ID[1]].append({\"part\":(message_parsed.get('content')[0]).get('part'),\"message\":(message_parsed.get('content')[0]).get('message')})\n",
    "            else:\n",
    "                print(\"The transmission is not in working array.\")  \n",
    "            ct = datetime.datetime.now()\n",
    "            print(\"Finish time 01:-\", ct)           \n",
    "        elif(message_parsed.get('message_type')=='02'):\n",
    "            ct = datetime.datetime.now()\n",
    "            print(\"Start time 02:-\", ct)   \n",
    "            if TX_ID[1] in IN_TX:                \n",
    "                chunked_converted=\"\"\n",
    "                im=\"\"\n",
    "                #print(len(IN_TX[TX_ID[1]]))\n",
    "                for chunk in IN_TX[TX_ID[1]]:                    \n",
    "                    #print(f\"Part Number:  `{chunk.get('part')}` | Message Part `{chunk.get('message')}` \")\n",
    "                    chunked_converted=chunked_converted+chunk.get('message')\n",
    "                file_converted = bytes(chunked_converted, 'utf-8')\n",
    "                #print(chunked_converted)\n",
    "                #print(file_converted)\n",
    "                print(len(chunked_converted))\n",
    "                file_name=os.path.basename(IN_TX_META[TX_ID[1]].get('name'))\n",
    "                file_extension_type = get_extension(file_name)\n",
    "                print(file_extension_type)\n",
    "                full_path = os.getenv(\"MQTT_FT_CONTENT_LOCATION\")+file_name\n",
    "                print(full_path)\n",
    "                #im = Image.open(BytesIO(base64.b64decode(chunked_converted)))                    \n",
    "                #im.save(full_path, str(file_extension_type))\n",
    "                try:\n",
    "                    im = Image.open(BytesIO(base64.b64decode(chunked_converted)))                    \n",
    "                    im.save(full_path, file_extension_type)\n",
    "                    print(\"Image saved successfully\")\n",
    "                    ct = datetime.datetime.now()\n",
    "                    print(\"Finish time 02:-\", ct)  \n",
    "                except:\n",
    "                    traceback.print_exc()\n",
    "                    print(\"An exception occurred generating document\")\n",
    "                del IN_TX[TX_ID[1]]\n",
    "            else:\n",
    "                print(\"The transmission is not in working array.\")                    \n",
    "        #print(IN_TX)\n",
    "    client.subscribe(\"transfer/#\")\n",
    "    client.on_message = on_message\n",
    "    client.loop()"
   ]
  },
  {
   "cell_type": "code",
   "execution_count": null,
   "metadata": {},
   "outputs": [],
   "source": [
    "client = connect_mqtt()\n",
    "subscribe(client)\n",
    "client.loop_forever()"
   ]
  }
 ],
 "metadata": {
  "kernelspec": {
   "display_name": "Python 3.10.6 64-bit",
   "language": "python",
   "name": "python3"
  },
  "language_info": {
   "codemirror_mode": {
    "name": "ipython",
    "version": 3
   },
   "file_extension": ".py",
   "mimetype": "text/x-python",
   "name": "python",
   "nbconvert_exporter": "python",
   "pygments_lexer": "ipython3",
   "version": "3.10.12"
  },
  "orig_nbformat": 4,
  "vscode": {
   "interpreter": {
    "hash": "916dbcbb3f70747c44a77c7bcd40155683ae19c65e1c03b4aa3499c5328201f1"
   }
  }
 },
 "nbformat": 4,
 "nbformat_minor": 2
}
